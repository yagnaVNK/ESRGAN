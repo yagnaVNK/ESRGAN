{
  "nbformat": 4,
  "nbformat_minor": 0,
  "metadata": {
    "colab": {
      "provenance": [],
      "authorship_tag": "ABX9TyMLB77RRqo9hnEiktMjc0fH",
      "include_colab_link": true
    },
    "kernelspec": {
      "name": "python3",
      "display_name": "Python 3"
    },
    "language_info": {
      "name": "python"
    }
  },
  "cells": [
    {
      "cell_type": "markdown",
      "metadata": {
        "id": "view-in-github",
        "colab_type": "text"
      },
      "source": [
        "<a href=\"https://colab.research.google.com/github/yagnaVNK/ESRGAN/blob/main/Copy_of_DataQuality_H01.ipynb\" target=\"_parent\"><img src=\"https://colab.research.google.com/assets/colab-badge.svg\" alt=\"Open In Colab\"/></a>"
      ]
    },
    {
      "cell_type": "code",
      "source": [
        "!pip install google-api-python-client"
      ],
      "metadata": {
        "id": "rSm2wS3BCbqo",
        "colab": {
          "base_uri": "https://localhost:8080/",
          "height": 0
        },
        "outputId": "814949aa-9a66-46ba-d183-c2d1b410a93f"
      },
      "execution_count": 1,
      "outputs": [
        {
          "output_type": "stream",
          "name": "stdout",
          "text": [
            "Requirement already satisfied: google-api-python-client in /usr/local/lib/python3.10/dist-packages (2.137.0)\n",
            "Requirement already satisfied: httplib2<1.dev0,>=0.19.0 in /usr/local/lib/python3.10/dist-packages (from google-api-python-client) (0.22.0)\n",
            "Requirement already satisfied: google-auth!=2.24.0,!=2.25.0,<3.0.0.dev0,>=1.32.0 in /usr/local/lib/python3.10/dist-packages (from google-api-python-client) (2.27.0)\n",
            "Requirement already satisfied: google-auth-httplib2<1.0.0,>=0.2.0 in /usr/local/lib/python3.10/dist-packages (from google-api-python-client) (0.2.0)\n",
            "Requirement already satisfied: google-api-core!=2.0.*,!=2.1.*,!=2.2.*,!=2.3.0,<3.0.0.dev0,>=1.31.5 in /usr/local/lib/python3.10/dist-packages (from google-api-python-client) (2.19.2)\n",
            "Requirement already satisfied: uritemplate<5,>=3.0.1 in /usr/local/lib/python3.10/dist-packages (from google-api-python-client) (4.1.1)\n",
            "Requirement already satisfied: googleapis-common-protos<2.0.dev0,>=1.56.2 in /usr/local/lib/python3.10/dist-packages (from google-api-core!=2.0.*,!=2.1.*,!=2.2.*,!=2.3.0,<3.0.0.dev0,>=1.31.5->google-api-python-client) (1.65.0)\n",
            "Requirement already satisfied: protobuf!=3.20.0,!=3.20.1,!=4.21.0,!=4.21.1,!=4.21.2,!=4.21.3,!=4.21.4,!=4.21.5,<6.0.0.dev0,>=3.19.5 in /usr/local/lib/python3.10/dist-packages (from google-api-core!=2.0.*,!=2.1.*,!=2.2.*,!=2.3.0,<3.0.0.dev0,>=1.31.5->google-api-python-client) (3.20.3)\n",
            "Requirement already satisfied: proto-plus<2.0.0dev,>=1.22.3 in /usr/local/lib/python3.10/dist-packages (from google-api-core!=2.0.*,!=2.1.*,!=2.2.*,!=2.3.0,<3.0.0.dev0,>=1.31.5->google-api-python-client) (1.24.0)\n",
            "Requirement already satisfied: requests<3.0.0.dev0,>=2.18.0 in /usr/local/lib/python3.10/dist-packages (from google-api-core!=2.0.*,!=2.1.*,!=2.2.*,!=2.3.0,<3.0.0.dev0,>=1.31.5->google-api-python-client) (2.32.3)\n",
            "Requirement already satisfied: cachetools<6.0,>=2.0.0 in /usr/local/lib/python3.10/dist-packages (from google-auth!=2.24.0,!=2.25.0,<3.0.0.dev0,>=1.32.0->google-api-python-client) (5.5.0)\n",
            "Requirement already satisfied: pyasn1-modules>=0.2.1 in /usr/local/lib/python3.10/dist-packages (from google-auth!=2.24.0,!=2.25.0,<3.0.0.dev0,>=1.32.0->google-api-python-client) (0.4.1)\n",
            "Requirement already satisfied: rsa<5,>=3.1.4 in /usr/local/lib/python3.10/dist-packages (from google-auth!=2.24.0,!=2.25.0,<3.0.0.dev0,>=1.32.0->google-api-python-client) (4.9)\n",
            "Requirement already satisfied: pyparsing!=3.0.0,!=3.0.1,!=3.0.2,!=3.0.3,<4,>=2.4.2 in /usr/local/lib/python3.10/dist-packages (from httplib2<1.dev0,>=0.19.0->google-api-python-client) (3.1.4)\n",
            "Requirement already satisfied: pyasn1<0.7.0,>=0.4.6 in /usr/local/lib/python3.10/dist-packages (from pyasn1-modules>=0.2.1->google-auth!=2.24.0,!=2.25.0,<3.0.0.dev0,>=1.32.0->google-api-python-client) (0.6.1)\n",
            "Requirement already satisfied: charset-normalizer<4,>=2 in /usr/local/lib/python3.10/dist-packages (from requests<3.0.0.dev0,>=2.18.0->google-api-core!=2.0.*,!=2.1.*,!=2.2.*,!=2.3.0,<3.0.0.dev0,>=1.31.5->google-api-python-client) (3.3.2)\n",
            "Requirement already satisfied: idna<4,>=2.5 in /usr/local/lib/python3.10/dist-packages (from requests<3.0.0.dev0,>=2.18.0->google-api-core!=2.0.*,!=2.1.*,!=2.2.*,!=2.3.0,<3.0.0.dev0,>=1.31.5->google-api-python-client) (3.10)\n",
            "Requirement already satisfied: urllib3<3,>=1.21.1 in /usr/local/lib/python3.10/dist-packages (from requests<3.0.0.dev0,>=2.18.0->google-api-core!=2.0.*,!=2.1.*,!=2.2.*,!=2.3.0,<3.0.0.dev0,>=1.31.5->google-api-python-client) (2.0.7)\n",
            "Requirement already satisfied: certifi>=2017.4.17 in /usr/local/lib/python3.10/dist-packages (from requests<3.0.0.dev0,>=2.18.0->google-api-core!=2.0.*,!=2.1.*,!=2.2.*,!=2.3.0,<3.0.0.dev0,>=1.31.5->google-api-python-client) (2024.8.30)\n"
          ]
        }
      ]
    },
    {
      "cell_type": "code",
      "source": [
        "#what are we running?\n",
        "import sys\n",
        "print(sys.version)"
      ],
      "metadata": {
        "colab": {
          "base_uri": "https://localhost:8080/",
          "height": 0
        },
        "id": "OPtiS5xCu8hX",
        "outputId": "b2ab91f7-bfbb-47df-99a2-d5490c9db2f7"
      },
      "execution_count": 2,
      "outputs": [
        {
          "output_type": "stream",
          "name": "stdout",
          "text": [
            "3.10.12 (main, Sep 11 2024, 15:47:36) [GCC 11.4.0]\n"
          ]
        }
      ]
    },
    {
      "cell_type": "code",
      "source": [
        "from IPython.display import display, HTML\n",
        "\n",
        "def print_html_formatted_result(result, print_count_start):\n",
        "    '''\n",
        "    Helper function for pretty printing Google Search API results\n",
        "    '''\n",
        "\n",
        "    for counter, item in enumerate(result['items'], print_count_start):\n",
        "        link = item['link']\n",
        "        title = item['htmlTitle']\n",
        "        snippet = item['htmlSnippet']\n",
        "\n",
        "        display(HTML(f'<a href=\"{link}\">{counter}. {title}</a><br>{snippet}<br><br>'))"
      ],
      "metadata": {
        "id": "8AQdd0sivT2r"
      },
      "execution_count": 4,
      "outputs": []
    },
    {
      "cell_type": "code",
      "source": [
        "from googleapiclient.discovery import build\n",
        "#\n",
        "def search_and_print(query, api_key, search_engine_key=Gdevcx, number_of_desired_results=10):\n",
        "    '''\n",
        "    Takes up to four arguments:\n",
        "    query: Query string as you would type it in google.com\n",
        "    api_key: Your Google Developer API key\n",
        "    search_engine_key (optional): Your custom search engine key (defaults to google.com).\n",
        "    number_of_desired_results (optional): Number of results to fetch (default is 10). Keep it under 50 to avoid exceeding query limits.\n",
        "    '''\n",
        "\n",
        "    service = build(\"customsearch\", \"v1\", developerKey=api_key)\n",
        "    resource = service.cse()\n",
        "\n",
        "    number_of_results_printed = 0\n",
        "\n",
        "    while number_of_results_printed < number_of_desired_results:\n",
        "        # Calculate how many results are left to print\n",
        "        left_to_print = min(number_of_desired_results - number_of_results_printed, 10)\n",
        "        print_count_start = number_of_results_printed + 1\n",
        "\n",
        "        # Fetch results from the custom search engine\n",
        "        result = resource.list(q=query, cx=search_engine_key, num=left_to_print, start=print_count_start).execute()\n",
        "\n",
        "        if 'items' in result:  # Print results only if there are items found\n",
        "            print_html_formatted_result(result, print_count_start)\n",
        "        else:\n",
        "            break\n",
        "\n",
        "        number_of_results_printed += left_to_print\n"
      ],
      "metadata": {
        "id": "7axnXsfbvbH9"
      },
      "execution_count": 5,
      "outputs": []
    },
    {
      "cell_type": "code",
      "source": [
        "search_and_print('small business grants', GdevKey, number_of_desired_results=11)"
      ],
      "metadata": {
        "colab": {
          "base_uri": "https://localhost:8080/",
          "height": 590
        },
        "id": "GJocuSVuvo9g",
        "outputId": "1f50c243-5d4b-4089-a69b-a1063a567e9e"
      },
      "execution_count": 6,
      "outputs": [
        {
          "output_type": "display_data",
          "data": {
            "text/plain": [
              "<IPython.core.display.HTML object>"
            ],
            "text/html": [
              "<a href=\"https://www.sba.gov/funding-programs/grants\">1. <b>Grants</b> | U.S. <b>Small Business</b> Administration</a><br>SBA offers <b>grants</b> to community organizations that promote entrepreneurship. These include those that support:<br><br>"
            ]
          },
          "metadata": {}
        },
        {
          "output_type": "display_data",
          "data": {
            "text/plain": [
              "<IPython.core.display.HTML object>"
            ],
            "text/html": [
              "<a href=\"https://www.nerdwallet.com/article/small-business/small-business-grants\">2. <b>Small</b>-<b>Business Grants</b>: Find Free Business Funding - NerdWallet</a><br><b>Small</b>-<b>business grants</b> provide free money for startups and existing businesses, including those impacted by the coronavirus pandemic or other hardships.<br><br>"
            ]
          },
          "metadata": {}
        },
        {
          "output_type": "display_data",
          "data": {
            "text/plain": [
              "<IPython.core.display.HTML object>"
            ],
            "text/html": [
              "<a href=\"https://www.uschamber.com/co/run/business-financing/small-business-grants-and-programs\">3. Free <b>Grants</b> and Programs for <b>Small Business</b> | CO- by US Chamber ...</a><br>7 days ago <b>...</b> We update this list of loans, <b>small business grants</b>, or other opportunities to connect with programs and organizations that can help you with your business.<br><br>"
            ]
          },
          "metadata": {}
        },
        {
          "output_type": "display_data",
          "data": {
            "text/plain": [
              "<IPython.core.display.HTML object>"
            ],
            "text/html": [
              "<a href=\"https://www.dep.pa.gov/Citizens/GrantsLoansRebates/SmallBusinessOmbudsmanOffice/Pages/Small%20Business%20Advantage%20Grant.aspx\">4. <b>Small Business</b> Advantage <b>Grant</b></a><br>Eligible applications are considered on a first-come, first-served basis, and must save the <b>small business</b> a minimum of $500 and at least 20% annually in energy&nbsp;...<br><br>"
            ]
          },
          "metadata": {}
        },
        {
          "output_type": "display_data",
          "data": {
            "text/plain": [
              "<IPython.core.display.HTML object>"
            ],
            "text/html": [
              "<a href=\"https://gov.texas.gov/business/page/financing-and-capital\">5. Financing &amp; Capital for <b>Small Businesses</b></a><br>USDA&#39;s <b>business</b> programs provide financial backing and technical assistance to stimulate rural <b>business</b> creation and growth. Loans, loan guarantees and <b>grants</b>&nbsp;...<br><br>"
            ]
          },
          "metadata": {}
        },
        {
          "output_type": "display_data",
          "data": {
            "text/plain": [
              "<IPython.core.display.HTML object>"
            ],
            "text/html": [
              "<a href=\"http://governor.maryland.gov/news/press/pages/governor-moore-announces-10-million-for-small-business-grants-to-strengthen-local-economies-across-maryland.aspx\">6. Governor Moore Announces $10 Million for <b>Small Business Grants</b> ...</a><br>Feb 21, 2024 <b>...</b> Governor Wes Moore today announced $10 million for <b>small business</b> and community development <b>grants</b> through the Maryland Department of Housing and Community&nbsp;...<br><br>"
            ]
          },
          "metadata": {}
        },
        {
          "output_type": "display_data",
          "data": {
            "text/plain": [
              "<IPython.core.display.HTML object>"
            ],
            "text/html": [
              "<a href=\"https://www.georgia.org/small-business/finance/federal-grants-and-loans\">7. Georgia <b>Small Businesses Grants</b> &amp; Loans | Georgia Department of ...</a><br>Georgia <b>Small Business Grants</b> &amp; Loans &middot; Early Stage Innovation Fund &middot; Georgia&#39;s Regional Commissions &middot; Appalachian Regional Commission &middot; Export-Import Bank of&nbsp;...<br><br>"
            ]
          },
          "metadata": {}
        },
        {
          "output_type": "display_data",
          "data": {
            "text/plain": [
              "<IPython.core.display.HTML object>"
            ],
            "text/html": [
              "<a href=\"https://www.grants.gov/learn-grants/grant-making-agencies/small-business-administration-sba\">8. <b>Small Business</b> Administration (SBA) | <b>Grants</b>.gov</a><br><b>Grant</b> Program Highlights ... The <b>Small Business</b> Innovation Research Program (SBIR) is a highly-competitive program that encourages <b>small business</b> to explore their&nbsp;...<br><br>"
            ]
          },
          "metadata": {}
        },
        {
          "output_type": "display_data",
          "data": {
            "text/plain": [
              "<IPython.core.display.HTML object>"
            ],
            "text/html": [
              "<a href=\"https://www.sbir.gov/\">9. SBIR: Home</a><br>Through the <b>Small Business</b> Innovation Research (SBIR) and <b>Small Business</b> ... <b>Funds</b> invested each year. 0%. Equity or IP ownership taken by the government. How&nbsp;...<br><br>"
            ]
          },
          "metadata": {}
        },
        {
          "output_type": "display_data",
          "data": {
            "text/plain": [
              "<IPython.core.display.HTML object>"
            ],
            "text/html": [
              "<a href=\"https://www.commerce.wa.gov/growing-the-economy/business-loans/\">10. Washington State <b>Business Grants</b> &amp; Loans</a><br>Funding Options for Small and Growing Businesses. <b>Small businesses</b> require capital to grow. Unfortunately, many loan programs are designed to serve larger&nbsp;...<br><br>"
            ]
          },
          "metadata": {}
        },
        {
          "output_type": "display_data",
          "data": {
            "text/plain": [
              "<IPython.core.display.HTML object>"
            ],
            "text/html": [
              "<a href=\"https://www.reddit.com/r/smallbusiness/comments/1dsb76o/small_business_grants/\">11. <b>Small business grants</b>?? : r/smallbusiness</a><br>Jun 30, 2024 <b>...</b> The CARES Act provided for a huge wave of <b>business grant</b> programs across the country. Although that&#39;s been winding down, there are still a&nbsp;...<br><br>"
            ]
          },
          "metadata": {}
        }
      ]
    }
  ]
}